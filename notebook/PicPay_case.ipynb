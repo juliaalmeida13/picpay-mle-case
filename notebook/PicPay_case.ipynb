{
 "cells": [
  {
   "cell_type": "markdown",
   "metadata": {
    "application/vnd.databricks.v1+cell": {
     "cellMetadata": {},
     "inputWidgets": {},
     "nuid": "46e6e551-10f4-4e3c-a422-42280bc8cae3",
     "showTitle": false,
     "tableResultSettingsMap": {},
     "title": ""
    }
   },
   "source": [
    "# PicPay Case\n",
    "Júlia Almeida"
   ]
  },
  {
   "cell_type": "markdown",
   "metadata": {
    "application/vnd.databricks.v1+cell": {
     "cellMetadata": {},
     "inputWidgets": {},
     "nuid": "001a4acb-7fb7-4a2d-8c8d-cb83cc8a446c",
     "showTitle": false,
     "tableResultSettingsMap": {},
     "title": ""
    }
   },
   "source": [
    "----------"
   ]
  },
  {
   "cell_type": "markdown",
   "metadata": {
    "application/vnd.databricks.v1+cell": {
     "cellMetadata": {},
     "inputWidgets": {},
     "nuid": "848050a6-3518-4883-b757-14a2e7301a1e",
     "showTitle": false,
     "tableResultSettingsMap": {},
     "title": ""
    }
   },
   "source": [
    "Todos os imports utilizados"
   ]
  },
  {
   "cell_type": "code",
   "execution_count": 0,
   "metadata": {
    "application/vnd.databricks.v1+cell": {
     "cellMetadata": {
      "byteLimit": 2048000,
      "rowLimit": 10000
     },
     "inputWidgets": {},
     "nuid": "40add180-db28-417d-94f6-46df62bac701",
     "showTitle": false,
     "tableResultSettingsMap": {},
     "title": ""
    }
   },
   "outputs": [],
   "source": [
    "from pyspark.sql.functions import avg, desc, concat_ws, to_date, dayofweek, col, round, when, count, sum, row_number, stddev\n",
    "from pyspark.sql.window import Window\n",
    "import requests\n",
    "import pandas as pd\n",
    "from sklearn.model_selection import train_test_split\n",
    "from sklearn.linear_model import LogisticRegression\n",
    "from sklearn.metrics import classification_report\n",
    "from sklearn.preprocessing import LabelEncoder\n",
    "import joblib"
   ]
  },
  {
   "cell_type": "code",
   "execution_count": 0,
   "metadata": {
    "application/vnd.databricks.v1+cell": {
     "cellMetadata": {
      "byteLimit": 2048000,
      "rowLimit": 10000
     },
     "inputWidgets": {},
     "nuid": "2eb73961-44d0-43c2-b38c-66df08c6cf11",
     "showTitle": false,
     "tableResultSettingsMap": {},
     "title": ""
    }
   },
   "outputs": [],
   "source": [
    "# Carregamento do DF (salvei em um starter warehouse no databricks)\n",
    "df = spark.sql(\"SELECT * FROM default.airports_database\")"
   ]
  },
  {
   "cell_type": "markdown",
   "metadata": {
    "application/vnd.databricks.v1+cell": {
     "cellMetadata": {},
     "inputWidgets": {},
     "nuid": "332b9dd4-0a95-460d-9e67-d31bb31e7def",
     "showTitle": false,
     "tableResultSettingsMap": {},
     "title": ""
    }
   },
   "source": [
    "## Utilitários"
   ]
  },
  {
   "cell_type": "code",
   "execution_count": 0,
   "metadata": {
    "application/vnd.databricks.v1+cell": {
     "cellMetadata": {
      "byteLimit": 2048000,
      "rowLimit": 10000
     },
     "inputWidgets": {},
     "nuid": "a04080d8-a177-4dbf-9a5e-7afc2527c7e3",
     "showTitle": false,
     "tableResultSettingsMap": {},
     "title": ""
    }
   },
   "outputs": [],
   "source": [
    "weekdays_names = {\n",
    "    1: \"Domingo\", 2: \"Segunda\", 3: \"Terça\",\n",
    "    4: \"Quarta\", 5: \"Quinta\", 6: \"Sexta\", 7: \"Sábado\"\n",
    "}"
   ]
  },
  {
   "cell_type": "markdown",
   "metadata": {
    "application/vnd.databricks.v1+cell": {
     "cellMetadata": {},
     "inputWidgets": {},
     "nuid": "10a73098-ad12-45db-8393-bdb20375987f",
     "showTitle": false,
     "tableResultSettingsMap": {},
     "title": ""
    }
   },
   "source": [
    "# Perguntas"
   ]
  },
  {
   "cell_type": "markdown",
   "metadata": {
    "application/vnd.databricks.v1+cell": {
     "cellMetadata": {},
     "inputWidgets": {},
     "nuid": "0e059abe-be04-4e12-b422-d3370c4d1a14",
     "showTitle": false,
     "tableResultSettingsMap": {},
     "title": ""
    }
   },
   "source": [
    "1. Qual é o número total de voos no conjunto de dados?"
   ]
  },
  {
   "cell_type": "code",
   "execution_count": 0,
   "metadata": {
    "application/vnd.databricks.v1+cell": {
     "cellMetadata": {
      "byteLimit": 2048000,
      "rowLimit": 10000
     },
     "inputWidgets": {},
     "nuid": "976ba345-3849-4cd8-b459-7796d059de19",
     "showTitle": false,
     "tableResultSettingsMap": {},
     "title": ""
    }
   },
   "outputs": [
    {
     "output_type": "stream",
     "name": "stdout",
     "output_type": "stream",
     "text": [
      "Há um total de 336776 no conjunto de dados\n"
     ]
    }
   ],
   "source": [
    "total_flights = df.count()\n",
    "print(f\"Há um total de {total_flights} no conjunto de dados\")"
   ]
  },
  {
   "cell_type": "markdown",
   "metadata": {
    "application/vnd.databricks.v1+cell": {
     "cellMetadata": {},
     "inputWidgets": {},
     "nuid": "a4b7229c-172f-4538-8c3e-6451f706b8df",
     "showTitle": false,
     "tableResultSettingsMap": {},
     "title": ""
    }
   },
   "source": [
    "2. Quantos voos foram cancelados? (Considerando que voos cancelados têm\n",
    "dep_time e arr_time nulos)"
   ]
  },
  {
   "cell_type": "code",
   "execution_count": 0,
   "metadata": {
    "application/vnd.databricks.v1+cell": {
     "cellMetadata": {
      "byteLimit": 2048000,
      "rowLimit": 10000
     },
     "inputWidgets": {},
     "nuid": "b12f16f0-688a-4e7c-8633-35d0adeee046",
     "showTitle": false,
     "tableResultSettingsMap": {},
     "title": ""
    }
   },
   "outputs": [
    {
     "output_type": "stream",
     "name": "stdout",
     "output_type": "stream",
     "text": [
      "Há um total de 8255 voos cancelados no conjunto de dados\n"
     ]
    }
   ],
   "source": [
    "canceled_flights = df.filter((df.dep_time.isNull()) & (df.arr_time.isNull())).count()\n",
    "print(f\"Há um total de {canceled_flights} voos cancelados no conjunto de dados\")"
   ]
  },
  {
   "cell_type": "markdown",
   "metadata": {
    "application/vnd.databricks.v1+cell": {
     "cellMetadata": {},
     "inputWidgets": {},
     "nuid": "47b33836-6060-4532-89fc-83917f087d3b",
     "showTitle": false,
     "tableResultSettingsMap": {},
     "title": ""
    }
   },
   "source": [
    "3. Qual é o atraso médio na partida dos voos (dep_delay)?"
   ]
  },
  {
   "cell_type": "code",
   "execution_count": 0,
   "metadata": {
    "application/vnd.databricks.v1+cell": {
     "cellMetadata": {
      "byteLimit": 2048000,
      "rowLimit": 10000
     },
     "inputWidgets": {},
     "nuid": "add36671-bdc4-483a-b419-538a1f3e64fd",
     "showTitle": false,
     "tableResultSettingsMap": {},
     "title": ""
    }
   },
   "outputs": [
    {
     "output_type": "stream",
     "name": "stdout",
     "output_type": "stream",
     "text": [
      "A partida dos voos atrasa, em média, 39.37 minutos.\n"
     ]
    }
   ],
   "source": [
    "# Aqui, filtrei pelos voos que realmente tiveram ATRASO, não adiantamento\n",
    "# No caso, os atrasos são quando o dep_delay são maiores do que zero (valores positivos)\n",
    "flights_with_delay = df.filter(df.dep_delay > 0)\n",
    "depart_avg = flights_with_delay.select(avg(\"dep_delay\")).collect()[0][0]\n",
    "print(f\"A partida dos voos atrasa, em média, {depart_avg:.2f} minutos.\")"
   ]
  },
  {
   "cell_type": "markdown",
   "metadata": {
    "application/vnd.databricks.v1+cell": {
     "cellMetadata": {},
     "inputWidgets": {},
     "nuid": "facabd42-04d5-4f20-a207-e0e4a31f3fd3",
     "showTitle": false,
     "tableResultSettingsMap": {},
     "title": ""
    }
   },
   "source": [
    "4. Quais são os 5 aeroportos com maior número de pousos?"
   ]
  },
  {
   "cell_type": "code",
   "execution_count": 0,
   "metadata": {
    "application/vnd.databricks.v1+cell": {
     "cellMetadata": {
      "byteLimit": 2048000,
      "rowLimit": 10000
     },
     "inputWidgets": {},
     "nuid": "d6fdb380-3a2b-4f54-b0ee-7c08f323cde3",
     "showTitle": false,
     "tableResultSettingsMap": {},
     "title": ""
    }
   },
   "outputs": [
    {
     "output_type": "stream",
     "name": "stdout",
     "output_type": "stream",
     "text": [
      "Os 5 Aeroportos com mais pousos são:\n\nORD - Pousos: 17283\nATL - Pousos: 17215\nLAX - Pousos: 16174\nBOS - Pousos: 15508\nMCO - Pousos: 14082\n"
     ]
    }
   ],
   "source": [
    "# A coluna \"dest\" contém os aeroports onde os voos pousaram\n",
    "dest_airports = df.groupBy(\"dest\") \\\n",
    "  .count() \\\n",
    "  .orderBy(desc(\"count\")) \\\n",
    "  .limit(5)\n",
    "\n",
    "print(\"Os 5 Aeroportos com mais pousos são:\\n\")\n",
    "for row in dest_airports.collect():\n",
    "    print(f\"{row['dest']} - Pousos: {row['count']}\")"
   ]
  },
  {
   "cell_type": "markdown",
   "metadata": {
    "application/vnd.databricks.v1+cell": {
     "cellMetadata": {},
     "inputWidgets": {},
     "nuid": "b2e37ff9-beb9-4830-8502-4fe3950f5909",
     "showTitle": false,
     "tableResultSettingsMap": {},
     "title": ""
    }
   },
   "source": [
    "5. Qual é a rota mais frequente (par origin-dest)?"
   ]
  },
  {
   "cell_type": "code",
   "execution_count": 0,
   "metadata": {
    "application/vnd.databricks.v1+cell": {
     "cellMetadata": {
      "byteLimit": 2048000,
      "rowLimit": 10000
     },
     "inputWidgets": {},
     "nuid": "201a5638-7a32-410b-bd7d-947d7e04bba3",
     "showTitle": false,
     "tableResultSettingsMap": {},
     "title": ""
    }
   },
   "outputs": [
    {
     "output_type": "stream",
     "name": "stdout",
     "output_type": "stream",
     "text": [
      "A rota mais frequente é JFK -> LAX com 11262 voos.\n"
     ]
    }
   ],
   "source": [
    "# Preciso criar uma coluna que agrupa origem e destino para descobrir qual a rota mais frequente\n",
    "rotas_frequentes = df.withColumn(\"rota\", concat_ws(\" -> \", \"origin\", \"dest\")) \\\n",
    "                     .groupBy(\"rota\") \\\n",
    "                     .count() \\\n",
    "                     .orderBy(desc(\"count\")) \\\n",
    "                     .limit(1)\n",
    "\n",
    "rota = rotas_frequentes.collect()[0]\n",
    "print(f\"A rota mais frequente é {rota['rota']} com {rota['count']} voos.\")"
   ]
  },
  {
   "cell_type": "markdown",
   "metadata": {
    "application/vnd.databricks.v1+cell": {
     "cellMetadata": {},
     "inputWidgets": {},
     "nuid": "0ce49043-1717-481e-b4e1-c9777e938ae7",
     "showTitle": false,
     "tableResultSettingsMap": {},
     "title": ""
    }
   },
   "source": [
    "6. Quais são as 5 companhias aéreas com maior tempo médio de atraso na chegada?\n",
    "(Exiba também o tempo)"
   ]
  },
  {
   "cell_type": "code",
   "execution_count": 0,
   "metadata": {
    "application/vnd.databricks.v1+cell": {
     "cellMetadata": {
      "byteLimit": 2048000,
      "rowLimit": 10000
     },
     "inputWidgets": {},
     "nuid": "29e89026-a3ee-416d-9c3a-91be84cc3b80",
     "showTitle": false,
     "tableResultSettingsMap": {},
     "title": ""
    }
   },
   "outputs": [
    {
     "output_type": "stream",
     "name": "stdout",
     "output_type": "stream",
     "text": [
      "Top 5 companhias com maior tempo médio de atraso na chegada:\n\nCompanhia: F9 - Atraso médio na chegada: 21.92 minutos\nCompanhia: FL - Atraso médio na chegada: 20.12 minutos\nCompanhia: EV - Atraso médio na chegada: 15.80 minutos\nCompanhia: YV - Atraso médio na chegada: 15.56 minutos\nCompanhia: OO - Atraso médio na chegada: 11.93 minutos\n"
     ]
    }
   ],
   "source": [
    "big_delays_companies = df.groupBy(\"carrier\") \\\n",
    "                         .agg(avg(\"arr_delay\").alias(\"media_atraso_chegada\")) \\\n",
    "                         .orderBy(desc(\"media_atraso_chegada\")) \\\n",
    "                         .limit(5)\n",
    "\n",
    "print(\"Top 5 companhias com maior tempo médio de atraso na chegada:\\n\")\n",
    "for row in big_delays_companies.collect():\n",
    "    print(f\"Companhia: {row['carrier']} - Atraso médio na chegada: {row['media_atraso_chegada']:.2f} minutos\")"
   ]
  },
  {
   "cell_type": "markdown",
   "metadata": {
    "application/vnd.databricks.v1+cell": {
     "cellMetadata": {},
     "inputWidgets": {},
     "nuid": "82eb3f6c-a4fb-49ac-a0a4-5369442579b7",
     "showTitle": false,
     "tableResultSettingsMap": {},
     "title": ""
    }
   },
   "source": [
    "7. Qual é o dia da semana com maior número de voos?"
   ]
  },
  {
   "cell_type": "code",
   "execution_count": 0,
   "metadata": {
    "application/vnd.databricks.v1+cell": {
     "cellMetadata": {
      "byteLimit": 2048000,
      "rowLimit": 10000
     },
     "inputWidgets": {},
     "nuid": "3f98f786-40fa-4bf9-a141-131d14186699",
     "showTitle": false,
     "tableResultSettingsMap": {},
     "title": ""
    }
   },
   "outputs": [
    {
     "output_type": "stream",
     "name": "stdout",
     "output_type": "stream",
     "text": [
      "Segunda: 50690 voos\nTerça: 50422 voos\nSexta: 50308 voos\nQuinta: 50219 voos\nQuarta: 50060 voos\nDomingo: 46357 voos\nSábado: 38720 voos\n\nO dia com mais voos é: **Segunda**, com 50690 voos.\n"
     ]
    }
   ],
   "source": [
    "df_date = df.withColumn(\"data_voo\", to_date(\n",
    "    concat_ws(\"-\", col(\"year\"), col(\"month\"), col(\"day\"))\n",
    "))\n",
    "\n",
    "df_weekday = df_date.withColumn(\"dia_semana\", dayofweek(\"data_voo\"))\n",
    "\n",
    "flights_per_day = df_weekday.groupBy(\"dia_semana\") \\\n",
    "    .count() \\\n",
    "    .orderBy(desc(\"count\"))\n",
    "\n",
    "most_flights = flights_per_day.first()\n",
    "dia_top = weekdays_names.get(most_flights[\"dia_semana\"], \"Desconhecido\")\n",
    "\n",
    "for row in flights_per_day.collect():\n",
    "    weekday_name = weekdays_names.get(row['dia_semana'], \"Desconhecido\")\n",
    "    print(f\"{weekday_name}: {row['count']} voos\")\n",
    "\n",
    "print(f\"\\nO dia com mais voos é: **{dia_top}**, com {most_flights['count']} voos.\")"
   ]
  },
  {
   "cell_type": "markdown",
   "metadata": {
    "application/vnd.databricks.v1+cell": {
     "cellMetadata": {},
     "inputWidgets": {},
     "nuid": "c5d75dd1-9d69-49e8-8fc4-958244e0c8ca",
     "showTitle": false,
     "tableResultSettingsMap": {},
     "title": ""
    }
   },
   "source": [
    "8. Qual o percentual mensal dos voos tiveram atraso na partida superior a 30 minutos?"
   ]
  },
  {
   "cell_type": "code",
   "execution_count": 0,
   "metadata": {
    "application/vnd.databricks.v1+cell": {
     "cellMetadata": {
      "byteLimit": 2048000,
      "rowLimit": 10000
     },
     "inputWidgets": {},
     "nuid": "e15b8655-4fdf-4f8f-af88-f8962b82f28e",
     "showTitle": false,
     "tableResultSettingsMap": {},
     "title": ""
    }
   },
   "outputs": [
    {
     "output_type": "stream",
     "name": "stdout",
     "output_type": "stream",
     "text": [
      "Percentual mensal de voos com atraso > 30 min\n\nMês  1: 12.41% dos voos atrasaram mais de 30 minutos\nMês  2: 12.75% dos voos atrasaram mais de 30 minutos\nMês  3: 14.94% dos voos atrasaram mais de 30 minutos\nMês  4: 15.99% dos voos atrasaram mais de 30 minutos\nMês  5: 15.34% dos voos atrasaram mais de 30 minutos\nMês  6: 20.24% dos voos atrasaram mais de 30 minutos\nMês  7: 20.98% dos voos atrasaram mais de 30 minutos\nMês  8: 14.45% dos voos atrasaram mais de 30 minutos\nMês  9: 8.77% dos voos atrasaram mais de 30 minutos\nMês 10: 9.34% dos voos atrasaram mais de 30 minutos\nMês 11: 8.76% dos voos atrasaram mais de 30 minutos\nMês 12: 17.31% dos voos atrasaram mais de 30 minutos\n"
     ]
    }
   ],
   "source": [
    "df_delay = df.withColumn(\"atraso_30+\", when(col(\"dep_delay\") > 30, 1).otherwise(0))\n",
    "\n",
    "flights_per_month = df_delay.groupBy(\"month\") \\\n",
    "    .agg(\n",
    "        count(\"*\").alias(\"total_voos\"),\n",
    "        sum(\"atraso_30+\").alias(\"voos_atrasados\")\n",
    "    ) \\\n",
    "    .withColumn(\"percentual_atraso\", round((col(\"voos_atrasados\") / col(\"total_voos\")) * 100, 2)) \\\n",
    "    .orderBy(\"month\")\n",
    "\n",
    "print(\"Percentual mensal de voos com atraso > 30 min\\n\")\n",
    "for row in flights_per_month.collect():\n",
    "    print(f\"Mês {row['month']:>2}: {row['percentual_atraso']}% dos voos atrasaram mais de 30 minutos\")\n"
   ]
  },
  {
   "cell_type": "markdown",
   "metadata": {
    "application/vnd.databricks.v1+cell": {
     "cellMetadata": {},
     "inputWidgets": {},
     "nuid": "496011b8-b9d7-4d5a-ab6a-f4588e73910f",
     "showTitle": false,
     "tableResultSettingsMap": {},
     "title": ""
    }
   },
   "source": [
    "9. Qual a origem mais comum para voos que pousaram em Seattle (SEA)?"
   ]
  },
  {
   "cell_type": "code",
   "execution_count": 0,
   "metadata": {
    "application/vnd.databricks.v1+cell": {
     "cellMetadata": {
      "byteLimit": 2048000,
      "rowLimit": 10000
     },
     "inputWidgets": {},
     "nuid": "6957a7c2-34ba-412e-aa06-6fe546ab62c0",
     "showTitle": false,
     "tableResultSettingsMap": {},
     "title": ""
    }
   },
   "outputs": [
    {
     "output_type": "stream",
     "name": "stdout",
     "output_type": "stream",
     "text": [
      "A origem mais comum para voos que pousaram em Seattle (SEA) foi JFK, com 2092 voos.\n"
     ]
    }
   ],
   "source": [
    "from pyspark.sql.functions import desc\n",
    "\n",
    "to_sea = df.filter(col(\"dest\") == \"SEA\")\n",
    "\n",
    "origens_mais_comuns = to_sea.groupBy(\"origin\") \\\n",
    "                                   .count() \\\n",
    "                                   .orderBy(desc(\"count\")) \\\n",
    "                                   .limit(1)\n",
    "\n",
    "row = origens_mais_comuns.collect()[0]\n",
    "print(f\"A origem mais comum para voos que pousaram em Seattle (SEA) foi {row['origin']}, com {row['count']} voos.\")"
   ]
  },
  {
   "cell_type": "markdown",
   "metadata": {
    "application/vnd.databricks.v1+cell": {
     "cellMetadata": {
      "byteLimit": 2048000,
      "rowLimit": 10000
     },
     "inputWidgets": {},
     "nuid": "1ff64b93-66c7-46f4-ba57-db6985563e77",
     "showTitle": false,
     "tableResultSettingsMap": {},
     "title": ""
    }
   },
   "source": [
    "10. Qual é a média de atraso na partida dos voos (dep_delay) para cada dia da\n",
    "semana?"
   ]
  },
  {
   "cell_type": "code",
   "execution_count": 0,
   "metadata": {
    "application/vnd.databricks.v1+cell": {
     "cellMetadata": {
      "byteLimit": 2048000,
      "rowLimit": 10000
     },
     "inputWidgets": {},
     "nuid": "7844b98f-fe4f-4866-bcc1-12fe18a3b3f3",
     "showTitle": false,
     "tableResultSettingsMap": {},
     "title": ""
    }
   },
   "outputs": [
    {
     "output_type": "stream",
     "name": "stdout",
     "output_type": "stream",
     "text": [
      "Média de atraso na partida dos voos (dep_delay) para cada dia da semana\n\nDomingo: atraso médio de 11.59 minutos\nSegunda: atraso médio de 14.78 minutos\nTerça: atraso médio de 10.63 minutos\nQuarta: atraso médio de 11.80 minutos\nQuinta: atraso médio de 16.15 minutos\nSexta: atraso médio de 14.70 minutos\nSábado: atraso médio de 7.65 minutos\n"
     ]
    }
   ],
   "source": [
    "df_date = df.withColumn(\"data_voo\", to_date(concat_ws(\"-\", \"year\", \"month\", \"day\")))\n",
    "df_date = df_date.withColumn(\"dia_semana\", dayofweek(\"data_voo\"))\n",
    "\n",
    "media_atraso_por_dia = df_date.groupBy(\"dia_semana\") \\\n",
    "                                 .agg(avg(\"dep_delay\").alias(\"media_atraso\")) \\\n",
    "                                 .orderBy(\"dia_semana\")\n",
    "print(\"Média de atraso na partida dos voos (dep_delay) para cada dia da semana\\n\")\n",
    "for row in media_atraso_por_dia.collect():\n",
    "    nome_dia = weekdays_names.get(row[\"dia_semana\"], \"Desconhecido\")\n",
    "    print(f\"{nome_dia}: atraso médio de {row['media_atraso']:.2f} minutos\")"
   ]
  },
  {
   "cell_type": "markdown",
   "metadata": {
    "application/vnd.databricks.v1+cell": {
     "cellMetadata": {},
     "inputWidgets": {},
     "nuid": "0998ea16-bd41-4fa5-821d-09b248602492",
     "showTitle": false,
     "tableResultSettingsMap": {},
     "title": ""
    }
   },
   "source": [
    "11. Qual é a rota que teve o maior tempo de voo médio (air_time)?"
   ]
  },
  {
   "cell_type": "code",
   "execution_count": 0,
   "metadata": {
    "application/vnd.databricks.v1+cell": {
     "cellMetadata": {
      "byteLimit": 2048000,
      "rowLimit": 10000
     },
     "inputWidgets": {},
     "nuid": "bd89bf6f-eba8-4d20-9880-4393ccf9ee1c",
     "showTitle": false,
     "tableResultSettingsMap": {},
     "title": ""
    }
   },
   "outputs": [
    {
     "output_type": "stream",
     "name": "stdout",
     "output_type": "stream",
     "text": [
      "A rota com maior tempo médio de voo é JFK -> HNL, com média de 623.09 minutos.\n"
     ]
    }
   ],
   "source": [
    "df_rota = df.withColumn(\"rota\", concat_ws(\" -> \", \"origin\", \"dest\"))\n",
    "\n",
    "rotas_maior_tempo = df_rota.groupBy(\"rota\") \\\n",
    "                           .agg(avg(\"air_time\").alias(\"media_tempo_voo\")) \\\n",
    "                           .orderBy(desc(\"media_tempo_voo\")) \\\n",
    "                           .limit(1)\n",
    "\n",
    "row = rotas_maior_tempo.collect()[0]\n",
    "print(f\"A rota com maior tempo médio de voo é {row['rota']}, com média de {row['media_tempo_voo']:.2f} minutos.\")"
   ]
  },
  {
   "cell_type": "markdown",
   "metadata": {
    "application/vnd.databricks.v1+cell": {
     "cellMetadata": {},
     "inputWidgets": {},
     "nuid": "5a0f2ca0-ba80-45a5-b6fc-e76a21873f2f",
     "showTitle": false,
     "tableResultSettingsMap": {},
     "title": ""
    }
   },
   "source": [
    "12. Para cada aeroporto de origem, qual é o aeroporto de destino mais comum?"
   ]
  },
  {
   "cell_type": "code",
   "execution_count": 0,
   "metadata": {
    "application/vnd.databricks.v1+cell": {
     "cellMetadata": {
      "byteLimit": 2048000,
      "rowLimit": 10000
     },
     "inputWidgets": {},
     "nuid": "f2c2a4bc-d934-4337-97b3-60672ae0993d",
     "showTitle": false,
     "tableResultSettingsMap": {},
     "title": ""
    }
   },
   "outputs": [
    {
     "output_type": "stream",
     "name": "stdout",
     "output_type": "stream",
     "text": [
      "Origem: EWR → Destinos mais comuns: ORD (6100 voos)\nOrigem: JFK → Destinos mais comuns: LAX (11262 voos)\nOrigem: LGA → Destinos mais comuns: ATL (10263 voos)\n"
     ]
    }
   ],
   "source": [
    "routes_count = df.groupBy(\"origin\", \"dest\") \\\n",
    "                 .count()\n",
    "\n",
    "window_spec = Window.partitionBy(\"origin\").orderBy(col(\"count\").desc())\n",
    "ranked_routes = routes_count.withColumn(\"rank\", row_number().over(window_spec))\n",
    "top_destinations_per_origin = ranked_routes.filter(col(\"rank\") == 1)\n",
    "\n",
    "for row in top_destinations_per_origin.collect():\n",
    "    print(f\"Origem: {row['origin']} → Destinos mais comuns: {row['dest']} ({row['count']} voos)\")"
   ]
  },
  {
   "cell_type": "markdown",
   "metadata": {
    "application/vnd.databricks.v1+cell": {
     "cellMetadata": {},
     "inputWidgets": {},
     "nuid": "804ed1be-972b-411a-ba04-2974f3a0808f",
     "showTitle": false,
     "tableResultSettingsMap": {},
     "title": ""
    }
   },
   "source": [
    "13. Quais são as 3 rotas que tiveram a maior variação no tempo médio de voo\n",
    "(air_time) ?"
   ]
  },
  {
   "cell_type": "code",
   "execution_count": 0,
   "metadata": {
    "application/vnd.databricks.v1+cell": {
     "cellMetadata": {
      "byteLimit": 2048000,
      "rowLimit": 10000
     },
     "inputWidgets": {},
     "nuid": "05f65a4f-b61c-4f0f-8fa3-dde29f68a54e",
     "showTitle": false,
     "tableResultSettingsMap": {},
     "title": ""
    }
   },
   "outputs": [
    {
     "output_type": "stream",
     "name": "stdout",
     "output_type": "stream",
     "text": [
      "Rota: LGA -> MYR → Variação no tempo médio de voo: 25.32 minutos\nRota: EWR -> HNL → Variação no tempo médio de voo: 21.27 minutos\nRota: JFK -> HNL → Variação no tempo médio de voo: 20.69 minutos\n"
     ]
    }
   ],
   "source": [
    "df_with_route = df.withColumn(\"route\", concat_ws(\" -> \", \"origin\", \"dest\"))\n",
    "\n",
    "route_variation = df_with_route.groupBy(\"route\") \\\n",
    "    .agg(stddev(\"air_time\").alias(\"air_time_stddev\")) \\\n",
    "    .orderBy(col(\"air_time_stddev\").desc()) \\\n",
    "    .limit(3)\n",
    "\n",
    "for row in route_variation.collect():\n",
    "    print(f\"Rota: {row['route']} → Variação no tempo médio de voo: {row['air_time_stddev']:.2f} minutos\")"
   ]
  },
  {
   "cell_type": "markdown",
   "metadata": {
    "application/vnd.databricks.v1+cell": {
     "cellMetadata": {},
     "inputWidgets": {},
     "nuid": "a0946c35-abeb-42d0-9c61-f3abda18fe02",
     "showTitle": false,
     "tableResultSettingsMap": {},
     "title": ""
    }
   },
   "source": [
    "14. Qual é a média de atraso na chegada para voos que tiveram atraso na partida\n",
    "superior a 1 hora?"
   ]
  },
  {
   "cell_type": "code",
   "execution_count": 0,
   "metadata": {
    "application/vnd.databricks.v1+cell": {
     "cellMetadata": {
      "byteLimit": 2048000,
      "rowLimit": 10000
     },
     "inputWidgets": {},
     "nuid": "1d4e4c50-81be-4978-a8e7-060ece7378d4",
     "showTitle": false,
     "tableResultSettingsMap": {},
     "title": ""
    }
   },
   "outputs": [
    {
     "output_type": "stream",
     "name": "stdout",
     "output_type": "stream",
     "text": [
      "Para voos com atraso de mais de 1 hora, a média de atraso na chegada é 119.05 minutos.\n"
     ]
    }
   ],
   "source": [
    "delayed_flights = df.filter(col(\"dep_delay\") > 60)\n",
    "\n",
    "average_arrival_delay = delayed_flights.select(avg(\"arr_delay\")).collect()[0][0]\n",
    "\n",
    "print(f\"Para voos com atraso de mais de 1 hora, a média de atraso na chegada é {average_arrival_delay:.2f} minutos.\")\n"
   ]
  },
  {
   "cell_type": "markdown",
   "metadata": {
    "application/vnd.databricks.v1+cell": {
     "cellMetadata": {},
     "inputWidgets": {},
     "nuid": "7609d0c1-3c49-4840-949c-d12ddaee99cf",
     "showTitle": false,
     "tableResultSettingsMap": {},
     "title": ""
    }
   },
   "source": [
    "15. Qual é a média de voos diários para cada mês do ano?"
   ]
  },
  {
   "cell_type": "code",
   "execution_count": 0,
   "metadata": {
    "application/vnd.databricks.v1+cell": {
     "cellMetadata": {
      "byteLimit": 2048000,
      "rowLimit": 10000
     },
     "inputWidgets": {},
     "nuid": "92d2a482-3aa5-489d-8df4-01e2e212afa6",
     "showTitle": false,
     "tableResultSettingsMap": {},
     "title": ""
    }
   },
   "outputs": [
    {
     "output_type": "stream",
     "name": "stdout",
     "output_type": "stream",
     "text": [
      "Média de voos diários para cada mês do ano: \n\nMês  1: média de 871.10 voos por dia\nMês  2: média de 891.11 voos por dia\nMês  3: média de 930.13 voos por dia\nMês  4: média de 944.33 voos por dia\nMês  5: média de 928.90 voos por dia\nMês  6: média de 941.43 voos por dia\nMês  7: média de 949.19 voos por dia\nMês  8: média de 946.03 voos por dia\nMês  9: média de 919.13 voos por dia\nMês 10: média de 931.90 voos por dia\nMês 11: média de 908.93 voos por dia\nMês 12: média de 907.58 voos por dia\n"
     ]
    }
   ],
   "source": [
    "df_with_date = df.withColumn(\"flight_date\", to_date(concat_ws(\"-\", \"year\", \"month\", \"day\")))\n",
    "daily_flights = df_with_date.groupBy(\"month\", \"flight_date\").agg(count(\"*\").alias(\"flights_per_day\"))\n",
    "\n",
    "monthly_avg = daily_flights.groupBy(\"month\") \\\n",
    "    .agg(avg(\"flights_per_day\").alias(\"average_daily_flights\")) \\\n",
    "    .orderBy(\"month\")\n",
    "\n",
    "print(\"Média de voos diários para cada mês do ano: \\n\")\n",
    "for row in monthly_avg.collect():\n",
    "    print(f\"Mês {row['month']:>2}: média de {row['average_daily_flights']:.2f} voos por dia\")\n"
   ]
  },
  {
   "cell_type": "markdown",
   "metadata": {
    "application/vnd.databricks.v1+cell": {
     "cellMetadata": {},
     "inputWidgets": {},
     "nuid": "54fcad3e-7b26-4723-b705-12c22e6db07f",
     "showTitle": false,
     "tableResultSettingsMap": {},
     "title": ""
    }
   },
   "source": [
    "16. Quais são as 3 rotas mais comuns que tiveram atrasos na chegada superiores a 30\n",
    "minutos?"
   ]
  },
  {
   "cell_type": "code",
   "execution_count": 0,
   "metadata": {
    "application/vnd.databricks.v1+cell": {
     "cellMetadata": {
      "byteLimit": 2048000,
      "rowLimit": 10000
     },
     "inputWidgets": {},
     "nuid": "0e6a44db-f93d-4c5b-a55a-1c86bcbb631b",
     "showTitle": false,
     "tableResultSettingsMap": {},
     "title": ""
    }
   },
   "outputs": [
    {
     "output_type": "stream",
     "name": "stdout",
     "output_type": "stream",
     "text": [
      "3 rotas mais comuns que tiveram atrasos na chegada (>30 minutos)\n\nRota: LGA -> ATL → 1563 voos com atraso superior a 30 minutos na chegada\nRota: JFK -> LAX → 1286 voos com atraso superior a 30 minutos na chegada\nRota: LGA -> ORD → 1188 voos com atraso superior a 30 minutos na chegada\n"
     ]
    }
   ],
   "source": [
    "delayed_arrivals = df.filter(col(\"arr_delay\") > 30)\n",
    "\n",
    "delayed_arrivals = delayed_arrivals.withColumn(\"route\", concat_ws(\" -> \", \"origin\", \"dest\"))\n",
    "\n",
    "top_3_delayed_routes = delayed_arrivals.groupBy(\"route\") \\\n",
    "    .count() \\\n",
    "    .orderBy(col(\"count\").desc()) \\\n",
    "    .limit(3)\n",
    "\n",
    "print(\"3 rotas mais comuns que tiveram atrasos na chegada (>30 minutos)\\n\")\n",
    "for row in top_3_delayed_routes.collect():\n",
    "    print(f\"Rota: {row['route']} → {row['count']} voos com atraso superior a 30 minutos na chegada\")\n"
   ]
  },
  {
   "cell_type": "markdown",
   "metadata": {
    "application/vnd.databricks.v1+cell": {
     "cellMetadata": {},
     "inputWidgets": {},
     "nuid": "3c5346e7-0168-4aff-bdb5-f61f645f3da5",
     "showTitle": false,
     "tableResultSettingsMap": {},
     "title": ""
    }
   },
   "source": [
    "17. Para cada origem, qual o principal destino?"
   ]
  },
  {
   "cell_type": "code",
   "execution_count": 0,
   "metadata": {
    "application/vnd.databricks.v1+cell": {
     "cellMetadata": {
      "byteLimit": 2048000,
      "rowLimit": 10000
     },
     "inputWidgets": {},
     "nuid": "09be39da-65cc-4421-91ba-455a8fdde413",
     "showTitle": false,
     "tableResultSettingsMap": {},
     "title": ""
    }
   },
   "outputs": [
    {
     "output_type": "stream",
     "name": "stdout",
     "output_type": "stream",
     "text": [
      "Origem: EWR → Destinos mais comuns: ORD (6100 voos)\nOrigem: JFK → Destinos mais comuns: LAX (11262 voos)\nOrigem: LGA → Destinos mais comuns: ATL (10263 voos)\n"
     ]
    }
   ],
   "source": [
    "# Esse aqui é igual à pergunta 12.\n",
    "routes_count = df.groupBy(\"origin\", \"dest\") \\\n",
    "                 .count()\n",
    "\n",
    "window_spec = Window.partitionBy(\"origin\").orderBy(col(\"count\").desc())\n",
    "ranked_routes = routes_count.withColumn(\"rank\", row_number().over(window_spec))\n",
    "top_destinations_per_origin = ranked_routes.filter(col(\"rank\") == 1)\n",
    "\n",
    "for row in top_destinations_per_origin.collect():\n",
    "    print(f\"Origem: {row['origin']} → Destinos mais comuns: {row['dest']} ({row['count']} voos)\")\n"
   ]
  },
  {
   "cell_type": "markdown",
   "metadata": {
    "application/vnd.databricks.v1+cell": {
     "cellMetadata": {},
     "inputWidgets": {},
     "nuid": "7c2eb72d-fb3e-45bc-9cb6-aa033ee5fa16",
     "showTitle": false,
     "tableResultSettingsMap": {},
     "title": ""
    }
   },
   "source": [
    "-------------"
   ]
  },
  {
   "cell_type": "markdown",
   "metadata": {
    "application/vnd.databricks.v1+cell": {
     "cellMetadata": {},
     "inputWidgets": {},
     "nuid": "7b4dd30e-2895-4201-9e88-04d28c3726f4",
     "showTitle": false,
     "tableResultSettingsMap": {},
     "title": ""
    }
   },
   "source": [
    "# Enriquecimento dos Dados"
   ]
  },
  {
   "cell_type": "code",
   "execution_count": 0,
   "metadata": {
    "application/vnd.databricks.v1+cell": {
     "cellMetadata": {
      "byteLimit": 2048000,
      "rowLimit": 10000
     },
     "inputWidgets": {},
     "nuid": "50508396-410f-47a1-9ec8-5912c70d4a37",
     "showTitle": false,
     "tableResultSettingsMap": {},
     "title": ""
    }
   },
   "outputs": [],
   "source": [
    "AIRPORT_DB_TOKEN = \"1bfe4ab495c115498b46201d53fbefefdb130595c8d0514a71cf25ea83f2173be94e42ce0600d942e481ae84aaa6735a\"\n",
    "WEATHERBIT_TOKEN = \"2872953c63434f6fbf9058c6ce3624ca\""
   ]
  },
  {
   "cell_type": "markdown",
   "metadata": {
    "application/vnd.databricks.v1+cell": {
     "cellMetadata": {},
     "inputWidgets": {},
     "nuid": "65d7d998-c441-465f-90cc-74c73d6e585d",
     "showTitle": false,
     "tableResultSettingsMap": {},
     "title": ""
    }
   },
   "source": [
    "## Buscando dados pelo Airportdb"
   ]
  },
  {
   "cell_type": "code",
   "execution_count": 0,
   "metadata": {
    "application/vnd.databricks.v1+cell": {
     "cellMetadata": {
      "byteLimit": 2048000,
      "rowLimit": 10000
     },
     "inputWidgets": {},
     "nuid": "3cb7d9ac-4434-4d9f-a7c5-ad704a229a44",
     "showTitle": false,
     "tableResultSettingsMap": {},
     "title": ""
    }
   },
   "outputs": [],
   "source": [
    "def get_coordinates(airport_code: str, token: str):\n",
    "    url = f\"https://airportdb.io/api/v1/airport/K{airport_code}?apiToken={token}\"\n",
    "    response = requests.get(url)\n",
    "    if response.status_code == 200:\n",
    "        data = response.json()\n",
    "        return data.get(\"latitude_deg\"), data.get(\"longitude_deg\")\n",
    "    else:\n",
    "        return None, None\n"
   ]
  },
  {
   "cell_type": "markdown",
   "metadata": {
    "application/vnd.databricks.v1+cell": {
     "cellMetadata": {},
     "inputWidgets": {},
     "nuid": "3173af46-bb55-4425-9e0e-daec52b001c0",
     "showTitle": false,
     "tableResultSettingsMap": {},
     "title": ""
    }
   },
   "source": [
    "## Buscando dados de Vento pelo Weatherbit"
   ]
  },
  {
   "cell_type": "code",
   "execution_count": 0,
   "metadata": {
    "application/vnd.databricks.v1+cell": {
     "cellMetadata": {
      "byteLimit": 2048000,
      "rowLimit": 10000
     },
     "inputWidgets": {},
     "nuid": "eccc7cf5-6e4d-4da6-b7e3-a69fc0d7cbae",
     "showTitle": false,
     "tableResultSettingsMap": {},
     "title": ""
    }
   },
   "outputs": [],
   "source": [
    "def get_wind_speed(lat: float, lon: float, date: str, key: str):\n",
    "    import datetime\n",
    "    next_day = (datetime.datetime.strptime(date, \"%Y-%m-%d\") + datetime.timedelta(days=1)).strftime(\"%Y-%m-%d\")\n",
    "\n",
    "    url = \"https://api.weatherbit.io/v2.0/history/daily\"\n",
    "    params = {\n",
    "        \"lat\": lat,\n",
    "        \"lon\": lon,\n",
    "        \"start_date\": date,\n",
    "        \"end_date\": next_day,\n",
    "        \"key\": key\n",
    "    }\n",
    "\n",
    "    response = requests.get(url, params=params)\n",
    "    if response.status_code == 200:\n",
    "        data = response.json()\n",
    "        try:\n",
    "            return data[\"data\"][0][\"wind_spd\"]\n",
    "        except:\n",
    "            return None\n",
    "    else:\n",
    "        return None"
   ]
  },
  {
   "cell_type": "markdown",
   "metadata": {
    "application/vnd.databricks.v1+cell": {
     "cellMetadata": {},
     "inputWidgets": {},
     "nuid": "989cfdfa-58b1-44bb-b863-90daad5dc53d",
     "showTitle": false,
     "tableResultSettingsMap": {},
     "title": ""
    }
   },
   "source": [
    "## Enriquecendo os dados da base utilizando as funções acima"
   ]
  },
  {
   "cell_type": "code",
   "execution_count": 0,
   "metadata": {
    "application/vnd.databricks.v1+cell": {
     "cellMetadata": {
      "byteLimit": 2048000,
      "rowLimit": 10000
     },
     "inputWidgets": {},
     "nuid": "e6419010-3fd5-4437-8e39-7b4eb7710609",
     "showTitle": false,
     "tableResultSettingsMap": {},
     "title": ""
    }
   },
   "outputs": [],
   "source": [
    "# Essa etapa eu fiz localmente pois o Databricks bloqueou a minha requisição para as APIs acima"
   ]
  },
  {
   "cell_type": "markdown",
   "metadata": {
    "application/vnd.databricks.v1+cell": {
     "cellMetadata": {},
     "inputWidgets": {},
     "nuid": "23f49e3a-1d7e-46bf-a1c9-ce8abde3bec7",
     "showTitle": false,
     "tableResultSettingsMap": {},
     "title": ""
    }
   },
   "source": [
    "**Pergunta final**: Enriqueça a base de dados de voos com as condições meteorológicas\n",
    "(velocidade do vento) para os aeroportos de origem e destino. Mostre as informações\n",
    "enriquecidas para os 5 voos com maior atraso na chegada."
   ]
  },
  {
   "cell_type": "code",
   "execution_count": 0,
   "metadata": {
    "application/vnd.databricks.v1+cell": {
     "cellMetadata": {
      "byteLimit": 2048000,
      "rowLimit": 10000
     },
     "inputWidgets": {},
     "nuid": "d48a2033-b54c-47f6-829f-0046d4dd9617",
     "showTitle": false,
     "tableResultSettingsMap": {},
     "title": ""
    }
   },
   "outputs": [],
   "source": [
    "# Carregamento do DF enriquecido (salvei em um starter warehouse no databricks)\n",
    "df_enriched = spark.sql(\"SELECT * FROM default.`enriched-airports`\")"
   ]
  },
  {
   "cell_type": "code",
   "execution_count": 0,
   "metadata": {
    "application/vnd.databricks.v1+cell": {
     "cellMetadata": {
      "byteLimit": 2048000,
      "rowLimit": 10000
     },
     "inputWidgets": {},
     "nuid": "60edd6fa-eaf8-4f79-923f-9873eb9e11a5",
     "showTitle": false,
     "tableResultSettingsMap": {},
     "title": ""
    }
   },
   "outputs": [
    {
     "output_type": "stream",
     "name": "stdout",
     "output_type": "stream",
     "text": [
      "\nVoo JFK → HNL no dia 2013-01-09:\n    • Velocidade do vento na origem: 3.5 m/s\n    • Velocidade do vento no destino: None m/s\n\n\nVoo JFK → CMH no dia 2013-06-15:\n    • Velocidade do vento na origem: 4.1 m/s\n    • Velocidade do vento no destino: 1.9 m/s\n\n\nVoo EWR → ORD no dia 2013-01-10:\n    • Velocidade do vento na origem: 4.1 m/s\n    • Velocidade do vento no destino: 4.1 m/s\n\n\nVoo JFK → SFO no dia 2013-09-20:\n    • Velocidade do vento na origem: 3.7 m/s\n    • Velocidade do vento no destino: 4.3 m/s\n\n\nVoo JFK → CVG no dia 2013-07-22:\n    • Velocidade do vento na origem: 3.2 m/s\n    • Velocidade do vento no destino: 2.3 m/s\n\n"
     ]
    }
   ],
   "source": [
    "for row in df_enriched.collect():\n",
    "    print(f\"\"\"\n",
    "Voo {row['origin']} → {row['dest']} no dia {row['date']}:\n",
    "    • Velocidade do vento na origem: {row['wind_origin']} m/s\n",
    "    • Velocidade do vento no destino: {row['wind_dest']} m/s\n",
    "\"\"\")"
   ]
  },
  {
   "cell_type": "markdown",
   "metadata": {
    "application/vnd.databricks.v1+cell": {
     "cellMetadata": {},
     "inputWidgets": {},
     "nuid": "300eac2e-f1a4-4e5e-9391-60d25581c502",
     "showTitle": false,
     "tableResultSettingsMap": {},
     "title": ""
    }
   },
   "source": [
    "# Modelo ML - Regressão Logística"
   ]
  },
  {
   "cell_type": "code",
   "execution_count": 0,
   "metadata": {
    "application/vnd.databricks.v1+cell": {
     "cellMetadata": {
      "byteLimit": 2048000,
      "rowLimit": 10000
     },
     "inputWidgets": {},
     "nuid": "fee5e182-9a40-455c-87e0-25921ef86f5b",
     "showTitle": false,
     "tableResultSettingsMap": {},
     "title": ""
    }
   },
   "outputs": [
    {
     "output_type": "stream",
     "name": "stderr",
     "output_type": "stream",
     "text": [
      "/databricks/python/lib/python3.11/site-packages/sklearn/linear_model/_logistic.py:460: ConvergenceWarning: lbfgs failed to converge (status=1):\nSTOP: TOTAL NO. of ITERATIONS REACHED LIMIT.\n\nIncrease the number of iterations (max_iter) or scale the data as shown in:\n    https://scikit-learn.org/stable/modules/preprocessing.html\nPlease also refer to the documentation for alternative solver options:\n    https://scikit-learn.org/stable/modules/linear_model.html#logistic-regression\n  n_iter_i = _check_optimize_result(\n"
     ]
    },
    {
     "output_type": "stream",
     "name": "stdout",
     "output_type": "stream",
     "text": [
      "              precision    recall  f1-score   support\n\n           0       0.92      0.97      0.94     49838\n           1       0.89      0.72      0.80     15632\n\n    accuracy                           0.91     65470\n   macro avg       0.91      0.85      0.87     65470\nweighted avg       0.91      0.91      0.91     65470\n\n"
     ]
    },
    {
     "output_type": "execute_result",
     "data": {
      "text/plain": [
       "['model.pkl']"
      ]
     },
     "execution_count": 210,
     "metadata": {},
     "output_type": "execute_result"
    }
   ],
   "source": [
    "df_pd = df.toPandas()\n",
    "df_pd = df_pd.dropna(subset=['dep_delay', 'distance', 'air_time', 'origin', 'dest'])\n",
    "df_pd['target'] = (df_pd['arr_delay'] > 15).astype(int)\n",
    "\n",
    "for col in ['origin', 'dest']:\n",
    "    le = LabelEncoder()\n",
    "    df_pd[col] = le.fit_transform(df_pd[col])\n",
    "\n",
    "X = df_pd[['dep_delay', 'distance', 'air_time', 'origin', 'dest']]\n",
    "y = df_pd['target']\n",
    "\n",
    "X_train, X_test, y_train, y_test = train_test_split(X, y, test_size=0.2, random_state=42)\n",
    "\n",
    "model = LogisticRegression()\n",
    "model.fit(X_train, y_train)\n",
    "\n",
    "y_pred = model.predict(X_test)\n",
    "print(classification_report(y_test, y_pred))\n",
    "\n",
    "joblib.dump(model, 'model.pkl')\n"
   ]
  }
 ],
 "metadata": {
  "application/vnd.databricks.v1+notebook": {
   "computePreferences": null,
   "dashboards": [],
   "environmentMetadata": {
    "base_environment": "",
    "environment_version": "2"
   },
   "inputWidgetPreferences": null,
   "language": "python",
   "notebookMetadata": {
    "pythonIndentUnit": 4
   },
   "notebookName": "PicPay Case",
   "widgets": {}
  },
  "language_info": {
   "name": "python"
  }
 },
 "nbformat": 4,
 "nbformat_minor": 0
}